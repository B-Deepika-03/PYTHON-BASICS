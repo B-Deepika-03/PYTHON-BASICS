{
  "nbformat": 4,
  "nbformat_minor": 0,
  "metadata": {
    "colab": {
      "provenance": []
    },
    "kernelspec": {
      "name": "python3",
      "display_name": "Python 3"
    },
    "language_info": {
      "name": "python"
    }
  },
  "cells": [
    {
      "cell_type": "markdown",
      "source": [
        "# PYTHON"
      ],
      "metadata": {
        "id": "faFH5iC8PPbD"
      }
    },
    {
      "cell_type": "markdown",
      "source": [
        "**PYTHON BASIC QUESTIONS**\n",
        "\n",
        "\n",
        "1. What is Python, and why is it popular?\n",
        "- Python is a type of computer language that you can use to tell a computer what to do.\n",
        "- Python is a programming language.\n",
        "It's like writing instructions in English that a computer can understand.\n",
        "- It is widely used in industry.\n",
        "- Python have lots of libraries.\n",
        "- Widely used in data industry.\n",
        "POPULAR :\n",
        "- Easy to Learn and Use.\n",
        "- Large Standard Library\n",
        "- Strong Community Support\n",
        "- There are more than 13700 libraries.\n",
        "- You can do automation using python.\n",
        "- Image processing\n",
        "- Used in data bases.\n",
        "- It is verstaile to learn in Web development,ML etc.\n",
        "- Good performance.\n",
        "- It can interact with other platforms easily.\n",
        "- Ease to learn\n",
        "- Front end part ,back end part,data analysis used.\n",
        "- Widely used in industries.\n",
        "\n",
        "\n",
        "2. What is an interpreter in Python?\n",
        "- An interpreter is a program that reads and runs Python code, line by line.\n",
        "- It reads code line by line, translating it for the computer.\n",
        "- Without the interpreter, code will just like text .\n",
        "\n",
        "\n",
        "3. What are pre-defined keywords in Python?\n",
        "- Pre-defined keywords are reserved words in Python with special meaning.\n",
        "- Keywords are reserved words in Python that have special meanings and cannot be used as identifiers\n",
        "- Keywords are case-sensitive and cannot be redefined or overridden within a Python program.\n",
        "- We can't use them as variable or function names.\n",
        "- They are used to build the structure of Python program.\n",
        "- They are part of Python’s syntax and are used to define the structure and rules of Python programs.\n",
        "\n",
        "\n",
        "4.  Can keywords be used as variable names?\n",
        "- No, keywords cannot be used as variable names in Python,Because keywords are reserved words in Python .\n",
        "\n",
        "\n",
        "5.  What is mutability in Python?\n",
        "- In Python, mutability refers to whether or not an object’s value can be changed after it’s created.\n",
        "- Objects can be either changeable/modifiable are mutability\n",
        "- There are 2 Types of Objects in Python:-\n",
        "i. Mutable\tCan be changed.\n",
        "ii. Immutable\tCannot be changed.\n",
        "\n",
        "\n",
        "6. Why are lists mutable, but tuples are immutable?\n",
        "- Lists are mutable because they are designed to be flexible.\n",
        "- Tuples are Immutable because they are meant to be fixed,safe and reliable data that shouldn’t be modified.\n",
        "\n",
        "\n",
        "7. What is the difference between “==” and “is” operators in Python?\n",
        "- ==\tEquality operator -\tChecks if the values of two objects are equal.\n",
        "- is\tIdentity operator -\tChecks if two variables point to the same object in memory.\n",
        "\n",
        "\n",
        "8. What are logical operators in Python?\n",
        "- Logical operators are used to combine multiple conditions or expressions and return a True or False result based on logic.\n",
        "- You logically decide something,example-and/or.\n",
        "\n",
        "\n",
        "9.  What is type casting in Python?\n",
        "- The process of changing the data type of values/objects in python is called as type casting.\n",
        "- It changes one data type to other.\n",
        "- It provides built-in functions for type casting.\n",
        "\n",
        "\n",
        "10. What is the difference between implicit and explicit type casting?\n",
        "- Implicit :- Python understands the data type ,computer automatically changes data for you and you dont have to do anything.No data will be lost.Done automatically by the compiler.\n",
        "- Explicity :- Done manually by the programmer.You tell the computer to change data type.you have to write code to do it.Needed when some data is lost.\n",
        "\n",
        "11.  What is the purpose of conditional statements in Python?\n",
        "- Control the flow of the program.\n",
        "- Helps you to code decisions based on some pre-conditions.\n",
        "- Execute different code depending on whether certain conditions are met.\n",
        "- Make the program dynamic and responsive to different inputs or situations.\n",
        "- There are 4 types of conditional statements,They are :- if, if else,if-elif-else, nested if - else.\n",
        "\n",
        "\n",
        "12. How does the elif statement work?\n",
        "- if condition is evaluated, if it is false, Python checks the condition in the first elif.\n",
        "- If that elif condition is true, its block of code runs, and the rest of the elif or else blocks are skipped.\n",
        "- If the first elif is also false, Python checks the next elif, and so on.\n",
        "- If none of the if or elif conditions are true, the optional else block runs.\n",
        "\n",
        "13. What is the difference between for and while loops?\n",
        "- for : Iterates over a sequence like a list, string, range, etc.\n",
        "- Syntax is concise and controlled by the iterable.\n",
        "- while : Repeatedly executes a block of code until a condition is met.\n",
        "\n",
        "14. Describe a scenario where a while loop is more suitable than a for loop?\n",
        "- While loop is more suitable because it keeps repeating as long as a condition is true.\n",
        "- The number of iterations is not fixed.\n"
      ],
      "metadata": {
        "id": "viottQ3vPdAa"
      }
    },
    {
      "cell_type": "markdown",
      "source": [
        "# **PYTHON - PRACTICAL QUESTIONS**"
      ],
      "metadata": {
        "id": "cL7AGSOkmN6Q"
      }
    },
    {
      "cell_type": "code",
      "execution_count": 2,
      "metadata": {
        "id": "KEkI-oAaPE1U",
        "colab": {
          "base_uri": "https://localhost:8080/"
        },
        "outputId": "b619837e-2c35-4cd4-b11b-e361d743144e"
      },
      "outputs": [
        {
          "output_type": "stream",
          "name": "stdout",
          "text": [
            "Hello, World!\n"
          ]
        }
      ],
      "source": [
        "#1.  Write a Python program to print \"Hello, World!\"\n",
        "print (\"Hello, World!\")"
      ]
    },
    {
      "cell_type": "code",
      "source": [
        "#2.  Write a Python program that displays your name and age.\n",
        "name = \"Deepika\"\n",
        "age = 23\n",
        "print(\"My name is\", name)\n",
        "print(\"I am\", age, \"years old\")"
      ],
      "metadata": {
        "colab": {
          "base_uri": "https://localhost:8080/"
        },
        "id": "TJS8bSnBnAh6",
        "outputId": "fee2f806-c170-4ae8-c846-6fc08c79f8b5"
      },
      "execution_count": 3,
      "outputs": [
        {
          "output_type": "stream",
          "name": "stdout",
          "text": [
            "My name is Deepika\n",
            "I am 23 years old\n"
          ]
        }
      ]
    },
    {
      "cell_type": "code",
      "source": [
        "#3. Write code to print all the pre-defined keywords in Python using the keyword library.\n",
        "help('keywords')"
      ],
      "metadata": {
        "colab": {
          "base_uri": "https://localhost:8080/"
        },
        "id": "3Qw_avZDns6S",
        "outputId": "fbf52707-6025-47cc-b3ed-721eb50ddbbc"
      },
      "execution_count": 25,
      "outputs": [
        {
          "output_type": "stream",
          "name": "stdout",
          "text": [
            "\n",
            "Here is a list of the Python keywords.  Enter any keyword to get more help.\n",
            "\n",
            "False               class               from                or\n",
            "None                continue            global              pass\n",
            "True                def                 if                  raise\n",
            "and                 del                 import              return\n",
            "as                  elif                in                  try\n",
            "assert              else                is                  while\n",
            "async               except              lambda              with\n",
            "await               finally             nonlocal            yield\n",
            "break               for                 not                 \n",
            "\n"
          ]
        }
      ]
    },
    {
      "cell_type": "code",
      "source": [
        "#4. Write a program that checks if a given word is a Python keyword.\n",
        "import keyword\n",
        "word = input(\"Enter a word: \")\n",
        "if keyword.iskeyword(word):\n",
        "    print(f\"'{word}' is a Python keyword.\")\n",
        "else:\n",
        "    print(f\"'{word}' is NOT a Python keyword.\")\n"
      ],
      "metadata": {
        "colab": {
          "base_uri": "https://localhost:8080/"
        },
        "id": "XCEfVqYYoN2R",
        "outputId": "0bb44f7b-93cc-4193-cd18-d42f26fda7e2"
      },
      "execution_count": 18,
      "outputs": [
        {
          "output_type": "stream",
          "name": "stdout",
          "text": [
            "Enter a word: for\n",
            "'for' is a Python keyword.\n"
          ]
        }
      ]
    },
    {
      "cell_type": "code",
      "source": [
        "#5. Create a list and tuple in Python, and demonstrate how attempting to change an element works differently for each.\n",
        "my_list = [1, 2, 3]\n",
        "my_tuple = (1, 2, 3)\n",
        "my_list[1] = 9\n",
        "print(\"Modified list:\", my_list)"
      ],
      "metadata": {
        "colab": {
          "base_uri": "https://localhost:8080/"
        },
        "id": "AzgpW6-5qz_u",
        "outputId": "4c2a41e8-5230-4e79-b6fa-8ad2485f7e9a"
      },
      "execution_count": 22,
      "outputs": [
        {
          "output_type": "stream",
          "name": "stdout",
          "text": [
            "Modified list: [1, 9, 3]\n"
          ]
        }
      ]
    },
    {
      "cell_type": "code",
      "source": [
        "#6. Write a function to demonstrate the behavior of mutable and immutable arguments.\n",
        "my_list = [1, 2, 3]    #mutable\n",
        "my_list.append(4)\n",
        "print(my_list)"
      ],
      "metadata": {
        "colab": {
          "base_uri": "https://localhost:8080/"
        },
        "id": "CTEWrJrprylH",
        "outputId": "d38b0538-f669-4b1f-ca35-3075b2daaaea"
      },
      "execution_count": 33,
      "outputs": [
        {
          "output_type": "stream",
          "name": "stdout",
          "text": [
            "[1, 2, 3, 4]\n"
          ]
        }
      ]
    },
    {
      "cell_type": "code",
      "source": [
        "x = 9    #immutable\n",
        "x += 2\n",
        "print(x)"
      ],
      "metadata": {
        "colab": {
          "base_uri": "https://localhost:8080/"
        },
        "id": "L3Dh_WJ1s8nC",
        "outputId": "4210001b-6068-475a-81d2-321302826a5e"
      },
      "execution_count": 34,
      "outputs": [
        {
          "output_type": "stream",
          "name": "stdout",
          "text": [
            "11\n"
          ]
        }
      ]
    },
    {
      "cell_type": "code",
      "source": [
        "#7. Write a program that performs basic arithmetic operations on two user-input numbers.\n",
        "a = 8\n",
        "b = 9\n",
        "a + b"
      ],
      "metadata": {
        "colab": {
          "base_uri": "https://localhost:8080/"
        },
        "id": "1sURGmrDvxsI",
        "outputId": "dd4742f9-1349-4ab4-adfe-48286416c2d3"
      },
      "execution_count": 44,
      "outputs": [
        {
          "output_type": "execute_result",
          "data": {
            "text/plain": [
              "17"
            ]
          },
          "metadata": {},
          "execution_count": 44
        }
      ]
    },
    {
      "cell_type": "code",
      "source": [
        "a-b"
      ],
      "metadata": {
        "colab": {
          "base_uri": "https://localhost:8080/"
        },
        "id": "YyAFkVsWwpe1",
        "outputId": "587cb4da-4103-44c5-c26b-9da013017c78"
      },
      "execution_count": 45,
      "outputs": [
        {
          "output_type": "execute_result",
          "data": {
            "text/plain": [
              "-1"
            ]
          },
          "metadata": {},
          "execution_count": 45
        }
      ]
    },
    {
      "cell_type": "code",
      "source": [
        "a*b"
      ],
      "metadata": {
        "colab": {
          "base_uri": "https://localhost:8080/"
        },
        "id": "jddy4zgAw3u0",
        "outputId": "0c43e2c1-4d72-4a85-95d0-a4471039b675"
      },
      "execution_count": 46,
      "outputs": [
        {
          "output_type": "execute_result",
          "data": {
            "text/plain": [
              "72"
            ]
          },
          "metadata": {},
          "execution_count": 46
        }
      ]
    },
    {
      "cell_type": "code",
      "source": [
        "a/b"
      ],
      "metadata": {
        "colab": {
          "base_uri": "https://localhost:8080/"
        },
        "id": "DDN02KS_xG2r",
        "outputId": "eecd595c-560e-4995-d37c-37a168cab450"
      },
      "execution_count": 47,
      "outputs": [
        {
          "output_type": "execute_result",
          "data": {
            "text/plain": [
              "0.8888888888888888"
            ]
          },
          "metadata": {},
          "execution_count": 47
        }
      ]
    },
    {
      "cell_type": "code",
      "source": [
        "#8.  Write a program to demonstrate the use of logical operators.\n",
        "True and True"
      ],
      "metadata": {
        "colab": {
          "base_uri": "https://localhost:8080/"
        },
        "id": "s3BuVXApxIcE",
        "outputId": "83c22c09-3b5d-4849-c338-50e5895de0c1"
      },
      "execution_count": 48,
      "outputs": [
        {
          "output_type": "execute_result",
          "data": {
            "text/plain": [
              "True"
            ]
          },
          "metadata": {},
          "execution_count": 48
        }
      ]
    },
    {
      "cell_type": "code",
      "source": [
        "True and False"
      ],
      "metadata": {
        "colab": {
          "base_uri": "https://localhost:8080/"
        },
        "id": "WeBtLWRAxqOZ",
        "outputId": "f2720aef-2d15-49db-b4ca-901be698fe9c"
      },
      "execution_count": 49,
      "outputs": [
        {
          "output_type": "execute_result",
          "data": {
            "text/plain": [
              "False"
            ]
          },
          "metadata": {},
          "execution_count": 49
        }
      ]
    },
    {
      "cell_type": "code",
      "source": [
        "True or True"
      ],
      "metadata": {
        "colab": {
          "base_uri": "https://localhost:8080/"
        },
        "id": "UU-RCQEexwsz",
        "outputId": "b23ce038-3632-45c5-a126-25aaee07a1d2"
      },
      "execution_count": 50,
      "outputs": [
        {
          "output_type": "execute_result",
          "data": {
            "text/plain": [
              "True"
            ]
          },
          "metadata": {},
          "execution_count": 50
        }
      ]
    },
    {
      "cell_type": "code",
      "source": [
        "True or False"
      ],
      "metadata": {
        "colab": {
          "base_uri": "https://localhost:8080/"
        },
        "id": "NuLnn18lx1gN",
        "outputId": "14ea95c5-9868-4cfe-ce24-78887ac67bcb"
      },
      "execution_count": 51,
      "outputs": [
        {
          "output_type": "execute_result",
          "data": {
            "text/plain": [
              "True"
            ]
          },
          "metadata": {},
          "execution_count": 51
        }
      ]
    },
    {
      "cell_type": "code",
      "source": [
        "#9. Write a Python program to convert user input from string to integer, float, and boolean types.\n",
        "a = \"2\"   #string - integer\n",
        "b = 3\n",
        "a + b"
      ],
      "metadata": {
        "colab": {
          "base_uri": "https://localhost:8080/",
          "height": 182
        },
        "id": "JfE4eAkBx5im",
        "outputId": "1c3ed71a-c40a-43fc-8760-6e741e5fb9a7"
      },
      "execution_count": 60,
      "outputs": [
        {
          "output_type": "error",
          "ename": "TypeError",
          "evalue": "can only concatenate str (not \"int\") to str",
          "traceback": [
            "\u001b[0;31m---------------------------------------------------------------------------\u001b[0m",
            "\u001b[0;31mTypeError\u001b[0m                                 Traceback (most recent call last)",
            "\u001b[0;32m<ipython-input-60-3ddae39ea9e9>\u001b[0m in \u001b[0;36m<cell line: 0>\u001b[0;34m()\u001b[0m\n\u001b[1;32m      2\u001b[0m \u001b[0ma\u001b[0m \u001b[0;34m=\u001b[0m \u001b[0;34m\"2\"\u001b[0m\u001b[0;34m\u001b[0m\u001b[0;34m\u001b[0m\u001b[0m\n\u001b[1;32m      3\u001b[0m \u001b[0mb\u001b[0m \u001b[0;34m=\u001b[0m \u001b[0;36m3\u001b[0m\u001b[0;34m\u001b[0m\u001b[0;34m\u001b[0m\u001b[0m\n\u001b[0;32m----> 4\u001b[0;31m \u001b[0ma\u001b[0m \u001b[0;34m+\u001b[0m \u001b[0mb\u001b[0m\u001b[0;34m\u001b[0m\u001b[0;34m\u001b[0m\u001b[0m\n\u001b[0m",
            "\u001b[0;31mTypeError\u001b[0m: can only concatenate str (not \"int\") to str"
          ]
        }
      ]
    },
    {
      "cell_type": "code",
      "source": [
        "type(a)"
      ],
      "metadata": {
        "colab": {
          "base_uri": "https://localhost:8080/"
        },
        "id": "FaTT9Siy1vzS",
        "outputId": "a8f7ed58-7002-4753-ab5e-e53dfa0cdeb2"
      },
      "execution_count": 61,
      "outputs": [
        {
          "output_type": "execute_result",
          "data": {
            "text/plain": [
              "str"
            ]
          },
          "metadata": {},
          "execution_count": 61
        }
      ]
    },
    {
      "cell_type": "code",
      "source": [
        "a = \"2\"\n",
        "b = 3\n",
        "int(a) + b"
      ],
      "metadata": {
        "colab": {
          "base_uri": "https://localhost:8080/"
        },
        "id": "PMHsYrZv2H8E",
        "outputId": "c198c748-d012-4f16-9763-80ec64f034cd"
      },
      "execution_count": 62,
      "outputs": [
        {
          "output_type": "execute_result",
          "data": {
            "text/plain": [
              "5"
            ]
          },
          "metadata": {},
          "execution_count": 62
        }
      ]
    },
    {
      "cell_type": "code",
      "source": [
        "a = 2   #integer to float\n",
        "type(a)"
      ],
      "metadata": {
        "colab": {
          "base_uri": "https://localhost:8080/"
        },
        "id": "SUa22Dar2QTy",
        "outputId": "545e1cec-282f-4068-de84-e10dfd4d75e0"
      },
      "execution_count": 63,
      "outputs": [
        {
          "output_type": "execute_result",
          "data": {
            "text/plain": [
              "int"
            ]
          },
          "metadata": {},
          "execution_count": 63
        }
      ]
    },
    {
      "cell_type": "code",
      "source": [
        "b = float(a)\n",
        "b"
      ],
      "metadata": {
        "colab": {
          "base_uri": "https://localhost:8080/"
        },
        "id": "pp5VPyzy2vUM",
        "outputId": "be7c77a9-38f6-4d33-8f08-9efa2831e4bb"
      },
      "execution_count": 64,
      "outputs": [
        {
          "output_type": "execute_result",
          "data": {
            "text/plain": [
              "2.0"
            ]
          },
          "metadata": {},
          "execution_count": 64
        }
      ]
    },
    {
      "cell_type": "code",
      "source": [
        "bool(0)"
      ],
      "metadata": {
        "colab": {
          "base_uri": "https://localhost:8080/"
        },
        "id": "MYmyqrop2zWc",
        "outputId": "4762eec4-76f0-498c-958d-ef6006a79c72"
      },
      "execution_count": 65,
      "outputs": [
        {
          "output_type": "execute_result",
          "data": {
            "text/plain": [
              "False"
            ]
          },
          "metadata": {},
          "execution_count": 65
        }
      ]
    },
    {
      "cell_type": "code",
      "source": [
        "bool(1)"
      ],
      "metadata": {
        "colab": {
          "base_uri": "https://localhost:8080/"
        },
        "id": "p433kT633LFK",
        "outputId": "a2a86595-1cef-4720-f281-6284197d5c73"
      },
      "execution_count": 66,
      "outputs": [
        {
          "output_type": "execute_result",
          "data": {
            "text/plain": [
              "True"
            ]
          },
          "metadata": {},
          "execution_count": 66
        }
      ]
    },
    {
      "cell_type": "code",
      "source": [
        "#10. Write code to demonstrate type casting with list elements.\n",
        "a = \"1, 2, 3, 4, 5,\"\n",
        "b = \" 0, 1, 2, 3, 4\"\n",
        "a + b"
      ],
      "metadata": {
        "colab": {
          "base_uri": "https://localhost:8080/",
          "height": 36
        },
        "id": "KPDUnucs3MgF",
        "outputId": "2277b054-84fe-4329-f4ce-4b88d6aaaa1e"
      },
      "execution_count": 69,
      "outputs": [
        {
          "output_type": "execute_result",
          "data": {
            "text/plain": [
              "'1, 2, 3, 4, 5, 0, 1, 2, 3, 4'"
            ],
            "application/vnd.google.colaboratory.intrinsic+json": {
              "type": "string"
            }
          },
          "metadata": {},
          "execution_count": 69
        }
      ]
    },
    {
      "cell_type": "code",
      "source": [
        "#11.  Write a program that checks if a number is positive, negative, or zero.\n",
        "num = 0\n",
        "if num > 0:\n",
        "    print(\"The number is positive.\")\n",
        "elif num < 0:\n",
        "    print(\"The number is negative.\")\n",
        "else:\n",
        "    print(\"The number is zero.\")\n"
      ],
      "metadata": {
        "colab": {
          "base_uri": "https://localhost:8080/"
        },
        "id": "SYNXjG114Pzw",
        "outputId": "40ac0e9f-0983-4225-c001-b036141090f0"
      },
      "execution_count": 70,
      "outputs": [
        {
          "output_type": "stream",
          "name": "stdout",
          "text": [
            "The number is zero.\n"
          ]
        }
      ]
    },
    {
      "cell_type": "code",
      "source": [
        "num = 5\n",
        "if num > 0:\n",
        "    print(\"The number is positive.\")\n",
        "elif num < 0:\n",
        "    print(\"The number is negative.\")\n",
        "else:\n",
        "    print(\"The number is zero.\")"
      ],
      "metadata": {
        "colab": {
          "base_uri": "https://localhost:8080/"
        },
        "id": "ikzmyZkW4_ty",
        "outputId": "3bdc9cbe-f391-4561-b5df-4d6c44b6cd29"
      },
      "execution_count": 72,
      "outputs": [
        {
          "output_type": "stream",
          "name": "stdout",
          "text": [
            "The number is positive.\n"
          ]
        }
      ]
    },
    {
      "cell_type": "code",
      "source": [
        "num = -9\n",
        "if num > 0:\n",
        "    print(\"The number is positive.\")\n",
        "elif num < 0:\n",
        "    print(\"The number is negative.\")\n",
        "else:\n",
        "    print(\"The number is zero.\")"
      ],
      "metadata": {
        "colab": {
          "base_uri": "https://localhost:8080/"
        },
        "id": "6DFdWHbF5KHX",
        "outputId": "323235fe-635f-47e2-806b-124fd8f7f97c"
      },
      "execution_count": 73,
      "outputs": [
        {
          "output_type": "stream",
          "name": "stdout",
          "text": [
            "The number is negative.\n"
          ]
        }
      ]
    },
    {
      "cell_type": "code",
      "source": [
        "#12. Write a for loop to print numbers from 1 to 10.\n",
        "for i in range(1, 11):\n",
        "    print(i)\n"
      ],
      "metadata": {
        "colab": {
          "base_uri": "https://localhost:8080/"
        },
        "id": "TIvNmOqa5M2T",
        "outputId": "557b85bd-54b1-4968-9644-f9f1fb14ecf8"
      },
      "execution_count": 74,
      "outputs": [
        {
          "output_type": "stream",
          "name": "stdout",
          "text": [
            "1\n",
            "2\n",
            "3\n",
            "4\n",
            "5\n",
            "6\n",
            "7\n",
            "8\n",
            "9\n",
            "10\n"
          ]
        }
      ]
    },
    {
      "cell_type": "code",
      "source": [
        "#13. Write a Python program to find the sum of all even numbers between 1 and 50.\n",
        "total = 0\n",
        "for num in range(2, 51, 2):\n",
        "    total += num\n",
        "print(\"Sum of even numbers between 1 and 50 is:\", total)"
      ],
      "metadata": {
        "colab": {
          "base_uri": "https://localhost:8080/"
        },
        "id": "Ktcz9zbj5Xr7",
        "outputId": "23a6dad7-069e-4fcb-e7bb-ceccaf490094"
      },
      "execution_count": 76,
      "outputs": [
        {
          "output_type": "stream",
          "name": "stdout",
          "text": [
            "Sum of even numbers between 1 and 50 is: 650\n"
          ]
        }
      ]
    },
    {
      "cell_type": "code",
      "source": [
        "#14. Write a program to reverse a string using a while loop.\n",
        "s = input(\"Enter a string: \")\n",
        "reversed_s = \"\"\n",
        "i = len(s) - 1\n",
        "while i >= 0:\n",
        "    reversed_s += s[i]\n",
        "    i -= 1\n",
        "print(reversed_s)"
      ],
      "metadata": {
        "colab": {
          "base_uri": "https://localhost:8080/"
        },
        "id": "e55g1E9y5pd9",
        "outputId": "52f2a932-238b-4ceb-9881-7c23d3f08961"
      },
      "execution_count": 78,
      "outputs": [
        {
          "output_type": "stream",
          "name": "stdout",
          "text": [
            "Enter a string: 5\n",
            "5\n"
          ]
        }
      ]
    },
    {
      "cell_type": "code",
      "source": [
        "#15.  Write a Python program to calculate the factorial of a number provided by the user using a while loop.\n",
        "num = int(input(\"Enter a number: \"))\n",
        "fact = 1\n",
        "i = 1\n",
        "while i <= num:\n",
        "    fact *= i\n",
        "    i += 1\n",
        "print(\"Factorial is\", fact)"
      ],
      "metadata": {
        "colab": {
          "base_uri": "https://localhost:8080/"
        },
        "id": "H-uPdykD6JPY",
        "outputId": "55e4970b-10d5-460f-c79e-daef9cd8f12e"
      },
      "execution_count": 79,
      "outputs": [
        {
          "output_type": "stream",
          "name": "stdout",
          "text": [
            "Enter a number: 2\n",
            "Factorial is 2\n"
          ]
        }
      ]
    },
    {
      "cell_type": "code",
      "source": [],
      "metadata": {
        "id": "cdqzn1p86iR-"
      },
      "execution_count": null,
      "outputs": []
    }
  ]
}